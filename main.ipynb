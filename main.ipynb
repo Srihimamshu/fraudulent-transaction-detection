{
 "cells": [
  {
   "cell_type": "code",
   "execution_count": 1,
   "id": "4c570297",
   "metadata": {},
   "outputs": [
    {
     "name": "stderr",
     "output_type": "stream",
     "text": [
      "/Users/srihimamshu/anaconda3/lib/python3.10/site-packages/pandas/core/arrays/masked.py:60: UserWarning: Pandas requires version '1.3.6' or newer of 'bottleneck' (version '1.3.5' currently installed).\n",
      "  from pandas.core import (\n"
     ]
    }
   ],
   "source": [
    "#LIBRARIES \n",
    "\n",
    "import numpy as np\n",
    "import pandas as pd\n",
    "import matplotlib.pyplot as plt\n",
    "from sklearn import metrics \n",
    "import seaborn as sns\n",
    "import matplotlib.pyplot as plt\n",
    "\n",
    "from sklearn.preprocessing import LabelEncoder"
   ]
  },
  {
   "cell_type": "code",
   "execution_count": 2,
   "id": "38362222",
   "metadata": {},
   "outputs": [
    {
     "data": {
      "text/html": [
       "<div>\n",
       "<style scoped>\n",
       "    .dataframe tbody tr th:only-of-type {\n",
       "        vertical-align: middle;\n",
       "    }\n",
       "\n",
       "    .dataframe tbody tr th {\n",
       "        vertical-align: top;\n",
       "    }\n",
       "\n",
       "    .dataframe thead th {\n",
       "        text-align: right;\n",
       "    }\n",
       "</style>\n",
       "<table border=\"1\" class=\"dataframe\">\n",
       "  <thead>\n",
       "    <tr style=\"text-align: right;\">\n",
       "      <th></th>\n",
       "      <th>step</th>\n",
       "      <th>customer</th>\n",
       "      <th>age</th>\n",
       "      <th>gender</th>\n",
       "      <th>zipcodeOri</th>\n",
       "      <th>merchant</th>\n",
       "      <th>zipMerchant</th>\n",
       "      <th>category</th>\n",
       "      <th>amount</th>\n",
       "      <th>fraud</th>\n",
       "    </tr>\n",
       "  </thead>\n",
       "  <tbody>\n",
       "    <tr>\n",
       "      <th>0</th>\n",
       "      <td>0</td>\n",
       "      <td>'C583110837'</td>\n",
       "      <td>'3'</td>\n",
       "      <td>'M'</td>\n",
       "      <td>'28007'</td>\n",
       "      <td>'M480139044'</td>\n",
       "      <td>'28007'</td>\n",
       "      <td>'es_health'</td>\n",
       "      <td>44.26</td>\n",
       "      <td>1</td>\n",
       "    </tr>\n",
       "    <tr>\n",
       "      <th>1</th>\n",
       "      <td>0</td>\n",
       "      <td>'C1332295774'</td>\n",
       "      <td>'3'</td>\n",
       "      <td>'M'</td>\n",
       "      <td>'28007'</td>\n",
       "      <td>'M480139044'</td>\n",
       "      <td>'28007'</td>\n",
       "      <td>'es_health'</td>\n",
       "      <td>324.50</td>\n",
       "      <td>1</td>\n",
       "    </tr>\n",
       "    <tr>\n",
       "      <th>2</th>\n",
       "      <td>0</td>\n",
       "      <td>'C1160421902'</td>\n",
       "      <td>'3'</td>\n",
       "      <td>'M'</td>\n",
       "      <td>'28007'</td>\n",
       "      <td>'M857378720'</td>\n",
       "      <td>'28007'</td>\n",
       "      <td>'es_hotelservices'</td>\n",
       "      <td>176.32</td>\n",
       "      <td>1</td>\n",
       "    </tr>\n",
       "    <tr>\n",
       "      <th>3</th>\n",
       "      <td>0</td>\n",
       "      <td>'C966214713'</td>\n",
       "      <td>'3'</td>\n",
       "      <td>'M'</td>\n",
       "      <td>'28007'</td>\n",
       "      <td>'M857378720'</td>\n",
       "      <td>'28007'</td>\n",
       "      <td>'es_hotelservices'</td>\n",
       "      <td>337.41</td>\n",
       "      <td>1</td>\n",
       "    </tr>\n",
       "    <tr>\n",
       "      <th>4</th>\n",
       "      <td>0</td>\n",
       "      <td>'C1450140987'</td>\n",
       "      <td>'4'</td>\n",
       "      <td>'F'</td>\n",
       "      <td>'28007'</td>\n",
       "      <td>'M1198415165'</td>\n",
       "      <td>'28007'</td>\n",
       "      <td>'es_wellnessandbeauty'</td>\n",
       "      <td>220.11</td>\n",
       "      <td>1</td>\n",
       "    </tr>\n",
       "  </tbody>\n",
       "</table>\n",
       "</div>"
      ],
      "text/plain": [
       "   step       customer  age gender zipcodeOri       merchant zipMerchant  \\\n",
       "0     0   'C583110837'  '3'    'M'    '28007'   'M480139044'     '28007'   \n",
       "1     0  'C1332295774'  '3'    'M'    '28007'   'M480139044'     '28007'   \n",
       "2     0  'C1160421902'  '3'    'M'    '28007'   'M857378720'     '28007'   \n",
       "3     0   'C966214713'  '3'    'M'    '28007'   'M857378720'     '28007'   \n",
       "4     0  'C1450140987'  '4'    'F'    '28007'  'M1198415165'     '28007'   \n",
       "\n",
       "                 category  amount  fraud  \n",
       "0             'es_health'   44.26      1  \n",
       "1             'es_health'  324.50      1  \n",
       "2      'es_hotelservices'  176.32      1  \n",
       "3      'es_hotelservices'  337.41      1  \n",
       "4  'es_wellnessandbeauty'  220.11      1  "
      ]
     },
     "execution_count": 2,
     "metadata": {},
     "output_type": "execute_result"
    }
   ],
   "source": [
    "#DATA LOAD\n",
    "\n",
    "data=pd.read_csv('train_hsbc_df.csv')\n",
    "data.head()"
   ]
  },
  {
   "cell_type": "code",
   "execution_count": 3,
   "id": "0a72ec66",
   "metadata": {},
   "outputs": [
    {
     "data": {
      "text/plain": [
       "(513643, 10)"
      ]
     },
     "execution_count": 3,
     "metadata": {},
     "output_type": "execute_result"
    }
   ],
   "source": [
    "data.shape"
   ]
  },
  {
   "cell_type": "code",
   "execution_count": 4,
   "id": "651f7fd4",
   "metadata": {},
   "outputs": [
    {
     "data": {
      "text/plain": [
       "Index(['step', 'customer', 'age', 'gender', 'zipcodeOri', 'merchant',\n",
       "       'zipMerchant', 'category', 'amount', 'fraud'],\n",
       "      dtype='object')"
      ]
     },
     "execution_count": 4,
     "metadata": {},
     "output_type": "execute_result"
    }
   ],
   "source": [
    "data.columns"
   ]
  },
  {
   "cell_type": "code",
   "execution_count": 5,
   "id": "793edc1b",
   "metadata": {},
   "outputs": [
    {
     "name": "stdout",
     "output_type": "stream",
     "text": [
      "<class 'pandas.core.frame.DataFrame'>\n",
      "RangeIndex: 513643 entries, 0 to 513642\n",
      "Data columns (total 10 columns):\n",
      " #   Column       Non-Null Count   Dtype  \n",
      "---  ------       --------------   -----  \n",
      " 0   step         513643 non-null  int64  \n",
      " 1   customer     513643 non-null  object \n",
      " 2   age          513643 non-null  object \n",
      " 3   gender       513643 non-null  object \n",
      " 4   zipcodeOri   513643 non-null  object \n",
      " 5   merchant     513643 non-null  object \n",
      " 6   zipMerchant  513643 non-null  object \n",
      " 7   category     513643 non-null  object \n",
      " 8   amount       513643 non-null  float64\n",
      " 9   fraud        513643 non-null  int64  \n",
      "dtypes: float64(1), int64(2), object(7)\n",
      "memory usage: 39.2+ MB\n"
     ]
    }
   ],
   "source": [
    "data.info()"
   ]
  },
  {
   "cell_type": "code",
   "execution_count": 6,
   "id": "94b95ed0",
   "metadata": {},
   "outputs": [],
   "source": [
    "data=data.drop(['step'],axis=1)\n",
    "\n",
    "#cuz step isn't important"
   ]
  },
  {
   "cell_type": "code",
   "execution_count": 7,
   "id": "ebc979c0",
   "metadata": {},
   "outputs": [
    {
     "data": {
      "text/html": [
       "<div>\n",
       "<style scoped>\n",
       "    .dataframe tbody tr th:only-of-type {\n",
       "        vertical-align: middle;\n",
       "    }\n",
       "\n",
       "    .dataframe tbody tr th {\n",
       "        vertical-align: top;\n",
       "    }\n",
       "\n",
       "    .dataframe thead th {\n",
       "        text-align: right;\n",
       "    }\n",
       "</style>\n",
       "<table border=\"1\" class=\"dataframe\">\n",
       "  <thead>\n",
       "    <tr style=\"text-align: right;\">\n",
       "      <th></th>\n",
       "      <th>customer</th>\n",
       "      <th>age</th>\n",
       "      <th>gender</th>\n",
       "      <th>zipcodeOri</th>\n",
       "      <th>merchant</th>\n",
       "      <th>zipMerchant</th>\n",
       "      <th>category</th>\n",
       "      <th>amount</th>\n",
       "      <th>fraud</th>\n",
       "    </tr>\n",
       "  </thead>\n",
       "  <tbody>\n",
       "    <tr>\n",
       "      <th>Total</th>\n",
       "      <td>0.0</td>\n",
       "      <td>0.0</td>\n",
       "      <td>0.0</td>\n",
       "      <td>0.0</td>\n",
       "      <td>0.0</td>\n",
       "      <td>0.0</td>\n",
       "      <td>0.0</td>\n",
       "      <td>0.0</td>\n",
       "      <td>0.0</td>\n",
       "    </tr>\n",
       "    <tr>\n",
       "      <th>Percent</th>\n",
       "      <td>0.0</td>\n",
       "      <td>0.0</td>\n",
       "      <td>0.0</td>\n",
       "      <td>0.0</td>\n",
       "      <td>0.0</td>\n",
       "      <td>0.0</td>\n",
       "      <td>0.0</td>\n",
       "      <td>0.0</td>\n",
       "      <td>0.0</td>\n",
       "    </tr>\n",
       "  </tbody>\n",
       "</table>\n",
       "</div>"
      ],
      "text/plain": [
       "         customer  age  gender  zipcodeOri  merchant  zipMerchant  category  \\\n",
       "Total         0.0  0.0     0.0         0.0       0.0          0.0       0.0   \n",
       "Percent       0.0  0.0     0.0         0.0       0.0          0.0       0.0   \n",
       "\n",
       "         amount  fraud  \n",
       "Total       0.0    0.0  \n",
       "Percent     0.0    0.0  "
      ]
     },
     "execution_count": 7,
     "metadata": {},
     "output_type": "execute_result"
    }
   ],
   "source": [
    "#any missing data\n",
    "\n",
    "total = data.isnull().sum().sort_values(ascending = False)\n",
    "percent = (data.isnull().sum()/data.isnull().count()*100).sort_values(ascending = False)\n",
    "pd.concat([total, percent], axis=1, keys=['Total', 'Percent']).transpose()"
   ]
  },
  {
   "cell_type": "code",
   "execution_count": 8,
   "id": "69dca39e",
   "metadata": {},
   "outputs": [
    {
     "data": {
      "image/png": "[encoded data removed]",
      "text/plain": [
       "<Figure size 800x600 with 1 Axes>"
      ]
     },
     "metadata": {},
     "output_type": "display_data"
    }
   ],
   "source": [
    "#counting fraud and non-fraud\n",
    "\n",
    "fraud_count = data[\"fraud\"].value_counts()[1]\n",
    "non_fraud_count = data[\"fraud\"].value_counts()[0]\n",
    "\n",
    "d = [fraud_count, non_fraud_count]\n",
    "labels = [\"Fraud\", \"Non-Fraud\"]\n",
    "\n",
    "plt.figure(figsize=(8, 6))\n",
    "plt.bar(labels, d, color=['red', 'green'])\n",
    "plt.xlabel(\"Transaction Type\")\n",
    "plt.ylabel(\"Count\")\n",
    "plt.title(\"Fraud and Non-Fraud Transactions\")\n",
    "plt.xticks(rotation=0)  \n",
    "plt.tight_layout()\n",
    "\n",
    "\n",
    "plt.show()"
   ]
  },
  {
   "cell_type": "code",
   "execution_count": 9,
   "id": "21e23269",
   "metadata": {},
   "outputs": [],
   "source": [
    "#IMBALANCED DATASET\n",
    "\n",
    "#MAJORITY CLASS - NON FRAUD \n",
    "#MINORITY CLASS - FRAUD\n",
    "\n",
    "#HIGH BIAS"
   ]
  },
  {
   "cell_type": "code",
   "execution_count": 10,
   "id": "e34cddbb",
   "metadata": {},
   "outputs": [],
   "source": [
    "#label encoding \n",
    "\n",
    "#to enocde numerically the categorical values"
   ]
  },
  {
   "cell_type": "code",
   "execution_count": 15,
   "id": "23ae2fc3",
   "metadata": {},
   "outputs": [],
   "source": [
    "\n",
    "data = pd.read_csv(\"train_hsbc_df.csv\")\n",
    "\n",
    "categorical_cols = ['customer', 'gender', 'zipcodeOri', 'merchant', 'zipMerchant']\n",
    "\n",
    "missing_cols = [col for col in categorical_cols if col not in data.columns]\n",
    "if missing_cols:\n",
    "    print(f\"Warning: Columns {', '.join(missing_cols)} not found in data. Ignoring them.\")\n",
    "    categorical_cols = [col for col in categorical_cols if col in data.columns]  # Update list\n",
    "\n",
    "le = LabelEncoder()\n",
    "\n",
    "for col in categorical_cols:\n",
    "    data[col] = le.fit_transform(data[col])\n",
    "\n"
   ]
  },
  {
   "cell_type": "code",
   "execution_count": null,
   "id": "702e7253",
   "metadata": {},
   "outputs": [
    {
     "name": "stderr",
     "output_type": "stream",
     "text": [
      "/Users/srihimamshu/anaconda3/lib/python3.10/site-packages/sklearn/preprocessing/_encoders.py:828: FutureWarning: `sparse` was renamed to `sparse_output` in version 1.2 and will be removed in 1.4. `sparse_output` is ignored unless you leave `sparse` to its default value.\n",
      "  warnings.warn(\n"
     ]
    }
   ],
   "source": [
    "\n",
    "from sklearn.preprocessing import OneHotEncoder\n",
    "\n",
    "categorical_cols = ['customer', 'age','gender', 'zipcodeOri', 'merchant', 'zipMerchant', 'category','amount','fraud']\n",
    "encoder = OneHotEncoder(sparse=False, handle_unknown='ignore')\n",
    "encoded_data = pd.DataFrame(encoder.fit_transform(data[categorical_cols]))\n",
    "data = pd.concat([data.drop(categorical_cols, axis=1), encoded_data], axis=1)"
   ]
  },
  {
   "cell_type": "code",
   "execution_count": null,
   "id": "ec6cc887",
   "metadata": {},
   "outputs": [],
   "source": [
    "correlation_matrix = data.corr()\n",
    "plt.figure(figsize=(10, 8))\n",
    "sns.heatmap(correlation_matrix, annot=True, cmap=\"viridis\")\n",
    "plt.title(\"Correlation Matrix\")\n",
    "plt.show()"
   ]
  },
  {
   "cell_type": "code",
   "execution_count": null,
   "id": "985e4f9d",
   "metadata": {},
   "outputs": [],
   "source": []
  }
 ],
 "metadata": {
  "kernelspec": {
   "display_name": "Python 3 (ipykernel)",
   "language": "python",
   "name": "python3"
  },
  "language_info": {
   "codemirror_mode": {
    "name": "ipython",
    "version": 3
   },
   "file_extension": ".py",
   "mimetype": "text/x-python",
   "name": "python",
   "nbconvert_exporter": "python",
   "pygments_lexer": "ipython3",
   "version": "3.10.9"
  }
 },
 "nbformat": 4,
 "nbformat_minor": 5
}
